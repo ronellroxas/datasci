{
 "cells": [
  {
   "cell_type": "markdown",
   "metadata": {},
   "source": [
    "## ABS-CBN Latest News Scraper\n",
    "Scrapes news.abs-cbn.com for the latest news."
   ]
  },
  {
   "cell_type": "code",
   "execution_count": 1,
   "metadata": {},
   "outputs": [],
   "source": [
    "import requests\n",
    "\n",
    "URL=\"https://news.abs-cbn.com/news\""
   ]
  },
  {
   "cell_type": "code",
   "execution_count": 2,
   "metadata": {},
   "outputs": [],
   "source": [
    "page=requests.get(URL)\n"
   ]
  },
  {
   "cell_type": "markdown",
   "metadata": {},
   "source": [
    "### Get initial list of latest news\n",
    "this portion will retrieve the official list of latest news found in [abs-cbn news page](https://news.abs-cbn.com/news). Saves every link to the actual article for navigation later."
   ]
  },
  {
   "cell_type": "code",
   "execution_count": 3,
   "metadata": {},
   "outputs": [],
   "source": [
    "from bs4 import BeautifulSoup\n",
    "\n",
    "soup = BeautifulSoup(page.content, 'html.parser')"
   ]
  },
  {
   "cell_type": "code",
   "execution_count": 4,
   "metadata": {},
   "outputs": [],
   "source": [
    "#get latest news div\n",
    "latest_news_div=soup.find(id='latest-news')\n",
    "#get each latest news\n",
    "latest_news_list = latest_news_div.find_all('li')"
   ]
  },
  {
   "cell_type": "code",
   "execution_count": 5,
   "metadata": {},
   "outputs": [
    {
     "data": {
      "text/plain": [
       "['/news/03/19/21/sws-65-pct-of-filipinos-say-dangerous-to-publish-critical-news-vs-duterte-administration',\n",
       " '/news/03/19/21/sws-65-pct-of-filipinos-say-dangerous-to-publish-critical-news-vs-duterte-administration',\n",
       " '/sports/03/19/21/nba-julius-randle-triple-double-leads-knicks-past-magic',\n",
       " '/sports/03/19/21/nba-bogdan-bogdanovic-leads-streaking-hawks-to-over-thunder',\n",
       " '/sports/03/19/21/jaworski-recovering-from-pneumonia-tests-negative-for-coranivrus',\n",
       " '/sports/03/19/21/mobile-legends-what-to-expect-on-mpl7s-opening-weekend',\n",
       " '/entertainment/03/19/21/iigo-pascual-collaborates-with-foreign-artists-annal-mateus-asato-mfmf-for-goodbye',\n",
       " '/news/03/19/21/palace-hits-query-on-slow-vaccine-procurement-despite-billions-in-loans',\n",
       " '/life/03/19/21/papet-pasyon-a-puppet-show-on-passion-of-christ-continues-online',\n",
       " '/news/03/19/21/pasig-city-enforces-granular-lockdown-in-37-areas-as-covid-19-cases-surge',\n",
       " '/video/news/03/19/21/naka-lockdown-na-govt-agencies-tuloy-pa-rin-ang-serbisyo-csc',\n",
       " '/news/03/19/21/duterte-oks-using-all-astrazeneca-doses-on-hand-as-first-jab-for-health-workers',\n",
       " '/business/03/19/21/antitrust-body-oks-manila-city-govt-waterfront-manila-joint-venture-for-reclamation-project',\n",
       " '/life/03/19/21/ph-international-dive-expo-goes-digital-amid-pandemic',\n",
       " '/entertainment/03/19/21/sylvia-sanchez-ibinahagi-ang-magandang-kapalit-nang-pagkakaroon-noon-ng-covid-19']"
      ]
     },
     "execution_count": 5,
     "metadata": {},
     "output_type": "execute_result"
    }
   ],
   "source": [
    "news_links_list = list(map(lambda x: x.find('a')['href'], latest_news_list))\n",
    "news_links_list"
   ]
  },
  {
   "cell_type": "markdown",
   "metadata": {},
   "source": [
    "### Get individual news article details\n",
    "Navigates to every link of the actual news article obtained earlier to obtain details."
   ]
  },
  {
   "cell_type": "code",
   "execution_count": 6,
   "metadata": {},
   "outputs": [
    {
     "name": "stdout",
     "output_type": "stream",
     "text": [
      "Saved article SWS: 65 pct of Filipinos say it's dangerous to publish critical news vs Duterte administration\n",
      "Saved article SWS: 65 pct of Filipinos say it's dangerous to publish critical news vs Duterte administration\n",
      "Saved article NBA: Julius Randle triple-double leads Knicks past Magic\n",
      "Saved article NBA: Bogdan Bogdanovic leads streaking Hawks to over Thunder\n",
      "Saved article Jaworski recovering from pneumonia, tests negative for coronavirus\n",
      "Saved article Mobile Legends: What to expect on MPL7’s opening weekend\n",
      "Saved article Iñigo Pascual collaborates with foreign artists Annalé, Mateus Asato, MFMF for “Goodbye”\n",
      "Saved article 'Nasaan ka bakuna?': Palace hits query on slow vaccine procurement despite billions in loans\n",
      "Saved article 'Papet Pasyon,' a puppet show on Passion of Christ, continues online\n",
      "Saved article Pasig City enforces granular lockdown in 37 areas as COVID-19 cases surge\n",
      "Saved article Naka-lockdown na gov't agencies tuloy pa rin ang serbisyo: CSC\n",
      "Saved article Duterte OKs using all AstraZeneca doses on hand as first jab for health workers\n",
      "Saved article Antitrust body OKs Manila city gov't, Waterfront Manila joint venture for reclamation project\n",
      "Saved article PH international dive expo goes digital amid pandemic\n",
      "Saved article Sylvia Sanchez, ibinahagi ang 'magandang' kapalit nang pagkakaroon noon ng COVID-19\n",
      "Done!\n"
     ]
    }
   ],
   "source": [
    "import time\n",
    "\n",
    "#array to store news data\n",
    "news_list_json = []\n",
    "\n",
    "multimedia = False\n",
    "for link in news_links_list:\n",
    "    #forge news link to navigate\n",
    "    news_link = 'https://news.abs-cbn.com/' + link\n",
    "    \n",
    "    #get news article page\n",
    "    page = requests.get(news_link)\n",
    "    soup = BeautifulSoup(page.content, 'html.parser')\n",
    "    \n",
    "    #get details\n",
    "    title=soup.find(class_='news-title').contents[0].strip()\n",
    "    \n",
    "    #author div\n",
    "    author_block = soup.find(class_='author-block') \n",
    "    author = author_block.find(class_='editor').text.strip()\n",
    "    date = author_block.find(class_='date-posted').text.strip()\n",
    "    \n",
    "    #full article contents\n",
    "    article_content = soup.find(class_='article-content')\n",
    "    \n",
    "    #for media articles\n",
    "    if(article_content == None):\n",
    "        article_content = soup.find(class_='media-caption')\n",
    "    \n",
    "    #for articles with different DOM structure\n",
    "    if(article_content == None):\n",
    "        article_content = soup.find(class_='block-content')\n",
    "        multimedia = True\n",
    "\n",
    "    if(multimedia): #articles with different DOM architecture\n",
    "        article = article_content.find_all('p') #get each paragraph<p> of article\n",
    "        full_article = article[len(article) - 1].text.strip()  \n",
    "    else:\n",
    "        article_paragraphs = article_content.find_all('p') #get each paragraph<p> of article\n",
    "        clean_paragraphs = list(map(lambda x: x.text.strip(), article_paragraphs)) #get text from each p\n",
    "        \n",
    "         #remove 'related videos:' if included\n",
    "        if(clean_paragraphs[-1].lower() == 'related videos:' or clean_paragraphs[-1].lower() == 'related video:' ):\n",
    "            clean_paragraphs = clean_paragraphs[0:-1]\n",
    "        full_article = ' '.join(clean_paragraphs) #join paragraphs into one text\n",
    "    \n",
    "    #save to array\n",
    "    news_list_json.append({\n",
    "        'title': title,\n",
    "        'author': author,\n",
    "        'date': date,\n",
    "        'content': full_article\n",
    "    })\n",
    "    \n",
    "    multimedia = False\n",
    "    print(f'Saved article {title}')\n",
    "    time.sleep(11) #10 sec delay from robots.txt\n",
    "\n",
    "print('Done!')"
   ]
  },
  {
   "cell_type": "code",
   "execution_count": 7,
   "metadata": {},
   "outputs": [
    {
     "data": {
      "text/plain": [
       "[{'title': \"SWS: 65 pct of Filipinos say it's dangerous to publish critical news vs Duterte administration\",\n",
       "  'author': 'Job Manahan, ABS-CBN News',\n",
       "  'date': 'Mar 19 2021 03:07 PM',\n",
       "  'content': 'MANILA - Majority or 65 percent of Filipinos agree that it is dangerous to broadcast or print anything critical of President Rodrigo Duterte\\'s administration, a survey by the Social Weather Stations (SWS) showed Friday. This as the administration saw a shutdown of a major broadcast network and arrests, prosecution and red tagging of journalists. The survey, conducted from Nov. 21 to 25 last year, also found that less than a fifth (16 percent) of Filipinos disagreed with the statement: “It is dangerous to print or broadcast anything critical of the administration, even if it is the truth.\" Meanwhile, 18 percent were undecided. The responses have a net agreement score of +49, considered by the pollster as \"strong.\" >EMBED CHART 1 HERE This net score increased by 28 points from the +21 reported in July 2020 which was \"moderate,\" it pointed out. Such sentiment was most prevalent in Mindanao, with a net agreement of +58. It was followed by Visayas with +55, Balance Luzon with +47, and Metro Manila with +30. Compared to the July 2020 poll, SWS said the net agreement \"rose sharply\" in Mindanao and in Visayas. The net agreement also increased in Balance Luzon and in Metro Manila. Belief that critical reporting on the Duterte administration is dangerous rose to +58 from +28 in Mindanao, and +55 from +26 in Visayas. It also rose from +16 to +47 in Balance Luzon and from +16 to +30 in Metro Manila. The release of the survey came almost a year since media network ABS-CBN was forced off the air after its franchise expiry— a promise Duterte had made in public speeches. Lawmakers from the House of Representatives eventually rejected its bid for a franchise renewal. Thousands have lost their jobs in the process amid the pandemic as the company\\'s regional stations were also closed. Malacañang earlier rejected notions that the ABS-CBN shutdown was linked to Duterte\\'s previous threats to the company, which has been airing critical news against the administration. RELATED VIDEO: FREEDOM OF SPEECH Some 65 percent of the 1,500 respondents interviewed by the pollster face-to-face, on the other hand, believe that they could \"say anything I want, openly and without fear, even if it is against the\\r\\nadministration.\" Nineteen percent disagreed with the statement while 16 percent were undecided, results from the survey showed. The net agreement score on the sentiment stood at +46, the SWS said, which was also considered as \"strong.\" The net score this year, the SWS pointed out, increased by 5 points from the +41 in June 2019. \"This is the highest since the strong +48 in January 2001,\" SWS noted. Belief that a person can say whatever he wants openly and fearlessly even if against the administration was highest in the Visayas with a net score of +59, followed by Mindanao with +55, and Balance Luzon with +42. Net agreement was lowest among respondents in Metro Manila with a score of +28. Comparing it with the results from the same poll released in June 2019, net agreement rose from \"strong to very strong\" in Visayas and in Mindanao, up by 12 points and 23 points respectively. The net agreement was maintained in Balance Luzon but it fell in Metro Manila by 17 points, according to the survey. The non-commissioned survey has sampling error margins of ±2.5% for national percentages, ±4% for Balance Luzon, and ±6% for Metro Manila, the Visayas, and Mindanao.'},\n",
       " {'title': \"SWS: 65 pct of Filipinos say it's dangerous to publish critical news vs Duterte administration\",\n",
       "  'author': 'Job Manahan, ABS-CBN News',\n",
       "  'date': 'Mar 19 2021 03:07 PM',\n",
       "  'content': 'MANILA - Majority or 65 percent of Filipinos agree that it is dangerous to broadcast or print anything critical of President Rodrigo Duterte\\'s administration, a survey by the Social Weather Stations (SWS) showed Friday. This as the administration saw a shutdown of a major broadcast network and arrests, prosecution and red tagging of journalists. The survey, conducted from Nov. 21 to 25 last year, also found that less than a fifth (16 percent) of Filipinos disagreed with the statement: “It is dangerous to print or broadcast anything critical of the administration, even if it is the truth.\" Meanwhile, 18 percent were undecided. The responses have a net agreement score of +49, considered by the pollster as \"strong.\" >EMBED CHART 1 HERE This net score increased by 28 points from the +21 reported in July 2020 which was \"moderate,\" it pointed out. Such sentiment was most prevalent in Mindanao, with a net agreement of +58. It was followed by Visayas with +55, Balance Luzon with +47, and Metro Manila with +30. Compared to the July 2020 poll, SWS said the net agreement \"rose sharply\" in Mindanao and in Visayas. The net agreement also increased in Balance Luzon and in Metro Manila. Belief that critical reporting on the Duterte administration is dangerous rose to +58 from +28 in Mindanao, and +55 from +26 in Visayas. It also rose from +16 to +47 in Balance Luzon and from +16 to +30 in Metro Manila. The release of the survey came almost a year since media network ABS-CBN was forced off the air after its franchise expiry— a promise Duterte had made in public speeches. Lawmakers from the House of Representatives eventually rejected its bid for a franchise renewal. Thousands have lost their jobs in the process amid the pandemic as the company\\'s regional stations were also closed. Malacañang earlier rejected notions that the ABS-CBN shutdown was linked to Duterte\\'s previous threats to the company, which has been airing critical news against the administration. RELATED VIDEO: FREEDOM OF SPEECH Some 65 percent of the 1,500 respondents interviewed by the pollster face-to-face, on the other hand, believe that they could \"say anything I want, openly and without fear, even if it is against the\\r\\nadministration.\" Nineteen percent disagreed with the statement while 16 percent were undecided, results from the survey showed. The net agreement score on the sentiment stood at +46, the SWS said, which was also considered as \"strong.\" The net score this year, the SWS pointed out, increased by 5 points from the +41 in June 2019. \"This is the highest since the strong +48 in January 2001,\" SWS noted. Belief that a person can say whatever he wants openly and fearlessly even if against the administration was highest in the Visayas with a net score of +59, followed by Mindanao with +55, and Balance Luzon with +42. Net agreement was lowest among respondents in Metro Manila with a score of +28. Comparing it with the results from the same poll released in June 2019, net agreement rose from \"strong to very strong\" in Visayas and in Mindanao, up by 12 points and 23 points respectively. The net agreement was maintained in Balance Luzon but it fell in Metro Manila by 17 points, according to the survey. The non-commissioned survey has sampling error margins of ±2.5% for national percentages, ±4% for Balance Luzon, and ±6% for Metro Manila, the Visayas, and Mindanao.'},\n",
       " {'title': 'NBA: Julius Randle triple-double leads Knicks past Magic',\n",
       "  'author': 'Field Level Media via Reuters',\n",
       "  'date': 'Mar 19 2021 02:56 PM',\n",
       "  'content': \"Reggie Bullock scored 20 points and came up with a big steal with 5.9 seconds left as the host New York Knicks held on for a 94-93 victory over the Orlando Magic on Thursday night. Bullock saved the Knicks from completely collapsing after they blew a 16-point, third-quarter lead and trailed by five points twice in the fourth. The Knicks held a 94-90 lead after Alec Burks hit a floater in the lane with 31.5 seconds left but Orlando drew within 94-93 on Evan Fournier's 3-pointer with 27.6 seconds left. The Knicks had a chance to clinch the win but Bullock got tied up by Fournier and lost a jump ball with 19.5 seconds left. After Orlando called a timeout, Aaron Gordon inbounded to Fournier, who moved around a screen by Nikola Vucevic but Bullock trailed Fournier and came up with the clutch steal beyond the 3-point line. Burks led the Knicks with 21 points and also added 10 assists. Julius Randle posted his third triple-double of the season with 18 points, a career-high 17 assists and 10 rebounds as the Knicks shot 43 percent and bounced back from close losses to Brooklyn and Philadelphia. Fournier scored 23 points for Orlando, which lost its ninth straight game. Gordon and Vucevic added 17 apiece for the Magic, who shot 42.7 percent After allowing the game's first five points, the Magic took a 20-10 lead on Fournier's one-legged 3-pointer with 5:50 left in the first quarter. New York outscored Orlando, 14-6, the rest of the frame to get within 26-24 after 12 minutes, before taking a 45-44 lead by intermission. Randle's 3-pointer put New York up 72-56 with 1:59 left in the third but Orlando scored the final 10 points of the quarter and got within 72-66 after Khem Birch hit a bank shot with one second left. Orlando regained the lead when Fournier's 3-pointer made it 75-74 with 9:54 left in the fourth. Orlando took its second five-point lead of the fourth at 87-82 on Vucevic's 14-footer with 5:15 left but the Knicks took an 88-87 lead on Frank Ntilikina's 3-pointer with 3:49 remaining. Randle then hit two jumpers to give the Knicks a 92-87 edge with 2:39 left. Orlando had a chance to retake the lead when Bullock missed a 3-pointer with 56.4 seconds left in the third but Dwayne Bacon missed a wide-open 3-pointer with 44.7 seconds to go.\"},\n",
       " {'title': 'NBA: Bogdan Bogdanovic leads streaking Hawks to over Thunder',\n",
       "  'author': 'Field Level Media via Reuters',\n",
       "  'date': 'Mar 19 2021 02:55 PM',\n",
       "  'content': \"2⃣1⃣ points off the bench from Bogi. 💪 pic.twitter.com/h9fk7LGYMn Bogdan Bogdanovic came off the bench to score a season-high 23 points and help the Atlanta Hawks rout the visiting Oklahoma City Thunder, 116-93, on Thursday and extend their NBA-leading winning streak to seven games. Bogdanovic was 9-for-14 from the floor and made five 3-pointers in the victory. It was only his second double-digit game since returning on March 2 from an avulsion fracture in his right knee that cost him 25 games. He added six rebounds and three assists. It marked the first time the Hawks have had a seven-game winning streak since 2017 and kept Nate McMillan's record perfect since he became head coach on March 1. The victory broke a two-game losing streak to the Thunder and avenged a 118-109 defeat suffered in Oklahoma City on Feb. 26. Atlanta also got 23 points and nine assists from Trae Young, who was rested during the fourth quarter, and 19 points and three blocks from John Collins. Oklahoma City got 19 points from Shai Gilgeous-Alexander. Reserve Ty Jerome made a season-high six 3-pointers to finish with 18 points. The Thunder got Lu Dort back in the lineup after missing two games with a sprained big toe and Al Horford played again after being rested for two games. Horford scored 11 and Dort added eight. The team was without Darius Bazley (left shoulder) for the fifth straight game. The Hawks came out hot from the floor, made 11 of their first 17 shots, and took a 25-8 lead on Bogdanovic's 3-pointer. Atlanta shot 52.3 percent (23-for-44) in the first half, led by as many as 22 points and took a 61-41 advantage into halftime. The Hawks built the lead to 91-67 through three quarters. The Hawks open an eight-game road trip on Saturday against the Los Angeles Lakers. The Thunder play the third game of a four-game road trip on Sunday at Houston.\"},\n",
       " {'title': 'Jaworski recovering from pneumonia, tests negative for coronavirus',\n",
       "  'author': 'ABS-CBN News',\n",
       "  'date': 'Mar 19 2021 02:53 PM',\n",
       "  'content': 'MANILA -- PBA icon Robert Jaworski is recovering from an illness after catching pneumonia last year, his family said. In an official statement posted on Jaworski\\'s Facebook page, the family revealed that the basketball legend had difficulty \"regaining his health, weight, and normal well-being\" due to a blood ailment discovered back in 2016. Jaworski, best known for his role as Barangay Ginebra\\'s feisty playing coach in the \\'80s and early \\'90s, had just turned 75 last March 8. \"Last year, he was hospitalized due to a bout with pneumonia. He, however, tested negative for COVID-19. Due to a non-life threatening blood abnormality that was discovered by his doctors in 2016, former senator Jaworski has experienced difficulty in regaining strength, weight and normal well-being,\" said the family. \"Despite this, his is making good progress and is slowly moving forward.\" No local basketball player has caught the imagination of Filipino fans more than Jaworski. It was the \"Big J,\" who first instilled the \"never say die\" spirit in Ginebra, a phenomenon very much alive in the Gin Kings up to this day. Jaworski recently topped the latest list of the 10 outstanding athletes, together with the late Fil-Spanish footballer Paulino Alcantara, who will be enshrined next month in the Philippine Sports Hall of Fame. FROM THE ARCHIVES'},\n",
       " {'title': 'Mobile Legends: What to expect on MPL7’s opening weekend',\n",
       "  'author': 'ABS-CBN News',\n",
       "  'date': 'Mar 19 2021 02:44 PM',\n",
       "  'content': 'MANILA - The Philippine leg of the Mobile Legends: Bang Bang Professional League kicks off its 7th installment Friday, March 19, with a string of games expected to keep Pinoy MLBB enthusiasts eyes peeled. Here are the matches scheduled on the opening weekend of the games, from March 19 to 21: MARCH 19 (FRIDAY) Last year’s first runner-up Smart Omega will go up against third placers Execration ML to open the season with a game starting at 4 p.m. on March 19. After getting in the tournament through the qualifying round, Work Auster Force will square up against AURA Philippines at 6 p.m. on the same day. MARCH 20 (SATURDAY) Another qualifying round clincher, Laus Playbook Esports Team, will go head to head with Nexplay Esports on Day 2 of the tournament at around 4 p.m. on March 20. Meanwhile, BREN Esports looks to carry the momentum from its domestic and world title run as it squares up with ONIC Philippines on March 20 at 6 p.m. MARCH 21 (SUNDAY) AURA Philippines will start the March 21 games with a match against Blacklist International at 4 p.m. BREN Esports will then cap off the opening weekend with a game vs Nexplay Esports. MPL officials previously announced that Cignal Ultra’s matches from March 19-27 had to be postponed \"due to health and safety concerns.\" Before the postponement, Cignal Ultra was scheduled to face Work Auster Force, Omega Esports and Onic PH. Group stages, which will last for 8 weeks, will be done in a round robin format. Group A includes BREN Esports, Aura PH, Onic PH, Cignal Ultra, and Work-Auster Force; while \\u2028Group B will have Omega Esports, Execration, Blacklist International, Nexplay Esports, and Laus Playbook Esports. The top 4 teams for each group will then proceed to the playoffs slated on May 29 and 30. The championship is scheduled on June 5 and 6.'},\n",
       " {'title': 'Iñigo Pascual collaborates with foreign artists Annalé, Mateus Asato, MFMF for “Goodbye”',\n",
       "  'author': 'ABS-CBN News',\n",
       "  'date': 'Mar 19 2021 02:41 PM',\n",
       "  'content': 'MANILA -- Singer-actor Iñigo Pascual has teamed up with Korean-American singer Annalé, Brazilian guitar maestro Mateus Asato, and Malaysia-based producer trio MFMF to remake the song “Goodbye” which was originally released in the Korean language last year. On his Instagram account, Pascual said he was grateful to be part of the project which featured artists from different parts of the world. A post shared by Inigo Dôminic Pascual 💎 (@inigopascual)  “Thanks to the team that made it possible,” he said in the caption. The emotional song “Goodbye” was first released by Annalé in 2020 but in Korean. My brand new single #Goodbye with @InigoDPascual, @mateusasato & @wearemfmf is OUT NOW! 😍😍\\n\\r\\nI am so grateful to have collaborated with such talented artists! Love the diversity of the artists involved in this project 🇰🇷🇺🇸🇵🇭🇧🇷🇲🇾✌🏻#Annalé #InigoPascual #MateusAsato#MFMF pic.twitter.com/nTpXUThxG7  The Korean-American songwriter lauded the diversity of the new project which was released on March 17. “I am so grateful to have collaborated with such talented artists! Love the diversity of the artists involved in this project,” she said on her Twitter account. Meanwhile, the trio MFMF is also elated to be part of the new project, their second international collaboration as a group. “This is our second ever international collaboration and we are very grateful and honoured to be a part of this song alongside these amazing artists,” the group said on their Instagram account. “Goodbye” is now available on all digital streaming platforms including YouTube and Spotify.'},\n",
       " {'title': \"'Nasaan ka bakuna?': Palace hits query on slow vaccine procurement despite billions in loans\",\n",
       "  'author': 'Jamaine Punzalan, ABS CBN News',\n",
       "  'date': 'Mar 19 2021 02:40 PM',\n",
       "  'content': 'MANILA — Malacañang on Friday objected to a lawmaker\\'s inquiry into the pace of government\\'s procurement of COVID-19 vaccines given billions in pesos of loans that the country has incurred for pandemic response. Sen. Panfilo Lacson on Thursday tweeted a list of Philippine loans from various organizations and asked, \"Nasaan ka bakuna?\" (Where are you vaccine?) WB/ADB/AIIB approved loans for Ph Covid vaccines:\\r\\nApril 20,2020 - US$100M\\r\\nMay 28, 2020 - US$500M\\r\\nDec 16, 2020 - US$600M\\r\\nMar 12, 2021 - US$500M\\r\\nMar, 2021 - US$400M\\r\\nMar, 2021 - US$300M\\r\\nplus:\\r\\nP10B - DOH Bayanihan budget\\r\\nequals:\\r\\nP126.75B@P48.64 per US$1\\r\\nNASAAN KA BAKUNA? There is no government official who has access to these funds, said Palace spokesman Harry Roque. “Mula pagbili o procurement hanggang sa pagbayad ng mga bakuna ay ima-manage ng ating multilateral partners. Ibig sabihin po, bagamat tayo’y binigyan ng kumbaga, credit line, iyong pag-draw down po sa credit line para sa pagbili ng bakuna, didiretso po ‘yan sa vaccine manufacturer,” Roque said in a press briefing. (From procurement to payment of the vaccines, these are managed by our multilateral partners. That mean that even if we were granted credit line, drawing down this credit line for the procurement of vaccines will go straight to vaccine manufacturers.) “Hindi po dapat magtanong na sa kabila ng mga nautang na salapi e nasaan ang bakuna. Meron lang tayong approved loans at iyong mga proceeds po ng mga loans, diretsong ibabayad ‘yan sa vaccine manufacturers,” he added (We should not ask where the vaccines are despite our loans. We have approved loans and the proceeds of these loans will go straight to vaccine manufacturers.) The Philippines has so far secured 600,000 China-donated COVID-19 shots from Beijing-based Sinovac Biotech, and 525,600 doses of Britain\\'s AstraZeneca-Oxford vaccine through the COVAX Facility. Authorities expect to receive 1.4 million more Sinovac doses in March, and about 900,000 AstraZeneca doses this month or in early April, said the country\\'s vaccine \"czar\" Secretary Carlito Galvez. Battling a surge in COVID-19 cases, the Philippines this year aims to vaccinate 70 million people or two-thirds of its population against the respiratory disease.'},\n",
       " {'title': \"'Papet Pasyon,' a puppet show on Passion of Christ, continues online\",\n",
       "  'author': 'ABS-CBN News',\n",
       "  'date': 'Mar 19 2021 02:32 PM',\n",
       "  'content': 'MANILA -- The annual tradition of \"Papet Pasyon,\" a puppet show on the Passion of Christ, continues despite the pandemic. The 36th edition of the show will be held online at 3 p.m. on Palm Sunday, March 28, via the Facebook pages of the University of the Philippines (UP) Arts and Letters and Teatrong Mulat ng Pilipinas.  \"Papet Pasyon\" is a kid-friendly production that uses puppets to depict Jesus Christ\\'s life, suffering, death, and resurrection. It was written by the late National Artist Amelia Lapeña-Bonifacio, who has been dubbed the \"Grande Dame of Southeast Asian Children\\'s Theater.\" Previous editions of \"Papet Pasyon\" were held at the Amelia Lapeña-Bonifacio Papet Teatro Museo in Quezon City, and used Filipino-looking puppets by local sculptors.'},\n",
       " {'title': 'Pasig City enforces granular lockdown in 37 areas as COVID-19 cases surge',\n",
       "  'author': 'ABS-CBN News',\n",
       "  'date': 'Mar 19 2021 02:27 PM',\n",
       "  'content': \"MANILA - A total of 37 areas in Pasig City will be placed under granular lockdown for two weeks beginning Friday, Mayor Vico Sotto has said, as the city government sought to prevent further spread of COVID-19. “With the surge of cases and the emergence of variants, and upon recommendation of our City Epidemiology and Surveillance Unit (CHD-CESU), I am declaring granular lockdown in 37 areas of Pasig City,” Sotto said in a Facebook post. Sotto’s order is contained in Executive Order No. PCG-18, series of 2021, which he signed Thursday. Under the EO, the following areas will be placed under granular lockdown from March 19 to April 1: BAGONG ILOG: BAMBANG: CANIOGAN: DELA PAZ: KAPITOLYO: MANGGAHAN: MAYBUNGA: ORANBO: PALATIW: PINAGBUHATAN: ROSARIO: SAN JOAQUIN: SAN MIGUEL: SAN NICOLAS: STA CRUZ: STA. LUCIA: SUMILANG: UGONG: Pasig’s CHD-CESU said there has been a 262.03 percent increase in the total number of cases in the city in the last two weeks. The mayor said only emergency cases and those considered as authorized personnel outside of residence (APOR) are allowed to go out in locked down areas. “Magiging mas mahigpit ang mga barangay at pulis sa mga lugar na ito. Bawal ang mga bisita at bawal lumabas ng bahay kung hindi APOR,” he said. The Philippines on Thursday reported 5,290 new coronavirus infections, bringing the country's total number of cases to 640,984 as it saw a fresh surge a year into the pandemic lockdown.\"},\n",
       " {'title': \"Naka-lockdown na gov't agencies tuloy pa rin ang serbisyo: CSC\",\n",
       "  'author': 'ABS-CBN News',\n",
       "  'date': 'Mar 19 2021 02:16 PM',\n",
       "  'content': \"MAYNILA - Tuloy-tuloy pa rin ang serbisyo ng mga ahensiya ng pamahalaan kahit pa marami sa mga ito ay kasalukuyang naka-lockdown dahil sa pagkalat ng kaso ng COVID-19. “Patuloy lamang po ang serbisyo pagkat ang ating government agencies po nakapag-adopt na, nakapag-adjust at very flexible sila sapagkat meron nang online appointments, online processing ng mga dokumento,” pahayag ni Liza Agamata, director ng Public Assistance and Information Office ng Civil Service Commission. Pero hinikayat ni Agamata ang publiko na mag-check sa mga website ng nais na puntahan na ahensiya ng gobyerno para matiyak na bukas ito nang hindi masayang ang kanilang oras kung balak pumunta. “'Yung ating mga kababayan po, ‘wag po silang basta-basta pupunta sa mga government agencies lalo na kung ‘di nila alam kung naka-lockdown o may mataas na infection. Punta lamang po sila sa website at kung may hotline po tumawag sa hotline,” sabi ni Agamata. Ngayong Biyernes ay balik-operasyon na ang CSC matapos na isailalim sa lockdown simula noong Marso 15. Bukod sa CSC, naka-lockdown din ang Senate, House of Representatives,, Department of Social Welfare and Development at ang on-site work ng Department of Agriculture at Department of Justice. Sa panayam sa TeleRadyo Biyernes ng umaga, ipinaliwanag ni Agamata na may mga kawani ng mga ahensiya ang naka-work from home naman at naka-online na rin ang karamihan sa serbisyo nila. “In fact, ini-encourage natin ang ating public kung meron silang nais na maging transaksiyon with government offices, 'wag po silang ora-oradang pupunta, check po nila website,” sabi niya. Tulad aniya ng CSC, meron na silang tinatawag na online registration appointment scheduling system. Sa kaniyang pagkakaalam din, ang Land Transportation Office ay nakagawa ng pitong online driver’s licensing renewal offices. Maging ang iba pang ahensiya ng pamahalaan ay may online service na rin. “Halos lahat ng ating government agencies ay nakapag-adapt na po,” dagdag niya. Sakaling wala naman aniyang sumagot sa mga hotline numbers ng mga website ng government agencies, maaaring makatulong din ang Contact Center ng Bayan ng CSC sa pag-text sa numerong 0908-881-6565 o pag-email sa email@contactcenterngbayan.gov.ph.\\r\\n\\xa0\\r\\n“Ang aming Contact Center ng Bayan tatanggap po kami ng request for assistance at ito naman po ay agaran naming ibibigay sa ahensiya ng gobyerno. Meron kaming Bilis Aksyon Partner na tututok sa mga request,” sabi niya. - TeleRadyo 19 Marso 2021\"},\n",
       " {'title': 'Duterte OKs using all AstraZeneca doses on hand as first jab for health workers',\n",
       "  'author': 'Jamaine Punzalan, ABS CBN News',\n",
       "  'date': 'Mar 19 2021 02:14 PM',\n",
       "  'content': 'MANILA — President Rodrigo Duterte has approved using up all of the country\\'s current stock of 525,600 AstraZeneca COVID-19 jabs as first dose to protect more health workers. Health Secretary Francisco Duque III earlier this week recommended that all of the doses be used as the first shot, instead of setting aside some of these for the second shot for health workers. The time interval for administering the second dose of AstraZeneca is 3 months from the first jab. This means the country would have enough time to get another shipment of AstraZeneca doses from vaccine-sharing COVAX Facility for the second jab, Duque told Duterte in a taped meeting on Monday. \"The President has approved the request to utilize all COVAX-donated AstraZeneca vaccine doses as first-dose vaccination in order to protect a larger number of frontline healthcare workers in areas witnessing increased transmission,\" said Duterte\\'s spokesman Harry Roque. Executive Secretary Salvador Medialdea will release a memorandum on this, Roque said in a press briefing. The Philippines is expected to get 979,200 AstraZeneca shots from COVAX this March or in early April, the country\\'s vaccine \"czar\" Secretary Carlito Galvez has said. The government is also set to receive 1.4 million COVID-19 shots from Beijing-based Sinovac Biotech this month, said Galvez. These will be on top of the 600,000 Sinovac doses that arrived in the country in late February. Battling a surge in COVID-19 cases, the Philippines this year aims to vaccinate 70 million people or two-thirds of its population against the respiratory disease.'},\n",
       " {'title': \"Antitrust body OKs Manila city gov't, Waterfront Manila joint venture for reclamation project\",\n",
       "  'author': 'ABS-CBN News',\n",
       "  'date': 'Mar 19 2021 01:49 PM',\n",
       "  'content': 'MANILA— The Philippine Competition Commission said Friday it has approved the joint venture between the Manila City government and Waterfront Manila Premier Development Inc for a reclamation project at the Manila Bay. In a decision dated March 9, the PCC found that the deal does not result in substantial lessening of competition, it said in a statement. The transaction \"results in a creation of a new market that is conventionally pro-competition,\" the PCC said. “The transaction is a new area of investment formed for the creation of a residential and commercial real estate development project. This will expand the existing market and likely create an opportunity for the emergence of new markets for commercial and residential real estate within the City of Manila,” the decision read. The joint venture was established for the \"Manila Waterfront City\" reclamation project, with the Manila LGU holding 51 percent of the arrangement and Manila Waterfront with 49 percent, the PCC said. Manila Waterfront City is a raw land reclamation and development project covering 318 hectares of foreshore and offshore areas in Manila, the agency said. A central business district, a gateway, a marina, a waterfront, entertainment, health and education hubs will be built in the said development, the PCC said. Waterfront Manila and its partner developer will contribute capital and expertise while the Manila LGU will contribute rights over municipal waters where the project will be developed, the statement said. The PCC is mandated to review mergers, acquisitions and joint ventures to ensure deals won\\'t harm competition and the interest of consumers.'},\n",
       " {'title': 'PH international dive expo goes digital amid pandemic',\n",
       "  'author': 'ABS-CBN News',\n",
       "  'date': 'Mar 19 2021 01:42 PM',\n",
       "  'content': 'MANILA -- Not even a pandemic can stop the Philippine International Dive Expo (PHIDEX), dubbed as the country\\'s largest platform for the diving community, as it kicked off virtually on Friday. Themed \"Our Sea, Our Story,\" this year\\'s PHIDEX features discussions by prominent experts on the sea, both in the Philippines and abroad. Among them are California Academy of Sciences curator Dr. Terry Gosliner, French-British underwater photographer Henley Spiers, Emmy Award-winning husband-and-wife documentary team Howard and Michele Hall, Professional Association of Diving Instructors ambassador and Philippine Commission on Sports Scuba Diving commissioner Bo Mancao, University of the Philippines marine economist and community scientist Tara Abrina, and German underwater photographer Tobias Friedrich. Participants can register for free and view all the lectures and talks on the PHIDEX website. The expo will run until March 21.  Tourism Secretary Bernadette Romulo-Puyat said PHIDEX 2021 is one of their ways of supporting the country\\'s diving industry. \"As the Philippines is known around the world for its diving destinations, it is truly important that we do everything we can to sustain the local diving industry. The latest recognition we received was from the 2020 World Travel Awards which named the Philippines as the World’s Leading Dive Destination,\" she said. \"This year\\'s PHIDEX is a step in the right direction to sustain our gains toward recovery, for all to enjoy the natural wonders our archipelago can provide,\" she added. For this year\\'s expo, the PHIDEX website will host three stages: the main stage, the expo stage, and the panel stage. Aside from attending discussions, participants can also buy equipment and experiences from partners and exhibitors during the three-day event through a virtual marketplace called Dive Travel Exchange or TRAVEX.'},\n",
       " {'title': \"Sylvia Sanchez, ibinahagi ang 'magandang' kapalit nang pagkakaroon noon ng COVID-19\",\n",
       "  'author': 'ABS-CBN News',\n",
       "  'date': 'Mar 19 2021 01:39 PM',\n",
       "  'content': 'MAYNILA -- Muling binalikan ng aktres na si Sylvia Sanchez ang naging karanasan na sumubok sa tatag ng kanyang pananalig sa Diyos. Noong nakaraang taon, nagpositibo sa coronavirus si Sanchez at kanyang mister na si Art Atayde. Sa media conference para sa pinakabagong serye ng ABS-CBN na \"Huwag Kang Mangamba\" kung saan isa si Sanchez sa mga bituin, sinabi ng aktres na mas naging matatag ang kanilang pamilya dahil dito. \"Honestly, sa totoo lang, wala akong kuwestiyon kay Lord bakit nangyari sa akin \\'yon. Wala akong pain, wala akong sakit, kung bakit nangyari sa amin \\'yon. Kasi ang kapalit nun ay mas naging close ang buong pamilya. May magandang kapalit \\'yon. Nagkaroon ako ng takot, yes. Para kay Chubby and kay Gela, kay Arjo, kay Ria na mahawa, lalo na \\'yung bunso. Kasi at that time walang puwedeng sumama (na hindi) COVID-positive sa loob ng hospital. Natakot ako roon para sa bunso talaga,\" ani Sanchez. Giit ng aktres, maraming biyaya ang dumating sa kanyang buhay mula nang gumaling sila sa COVID-19. \"Sumatutal walang negative kahit ano na nangyari sa buhay ko last year kasi ang kapalit nun blessings. Ang dami-daming nangyaring magaganda sa buhay ko after nun. So papaano ko kukuwestiyunan \\'yung isang beses na nagka-COVID kami, na thank God nalagpasan namin, kumpara doon sa binigay naman Niya after? Sabi ko nga, lahat tayo, karamihan sa atin may kuwestiyon, bakit Lord, bakit ganun?\\' Pero darating \\'yung time na \\'yung mga katanungan natin masasagot din \\'yan later on. \\'Di natin alam kung kailanman, basta darating ang kasagutan sa tanong natin na \\'yon,” dagdag ni Sanchez. Ayon kay Sanchez, isang malaking biyaya niyang maituturing ang dami rin ng mga taong nagdasal para sa kanyang panggaling. “Noong time na nagka-COVID ako, ang dami-dami nagdadasal. Tapos nagugulat ako na hindi ko mga kilala \\'yung iba, nag-te-text, may nagpapa-text. \\'Di ba blessing \\'yon? Ni minsan hindi ako nagsalita na \\'bakit, Lord?\\' ...Never naman ako iniwan ng Diyos. Ako ang nang-iwan sa Diyos. Tini-take for granted ko Siya. Maraming beses. Pero Siya tuloy-tuloy niya akong niyayakap. Never naman nang-iwan ang Diyos sa atin. Nandiyan lang Siya, naghihintay lang Siya kung kailan natin Siya tawagin siya at kailan natin siya i-embrace totally sa buhay,” ani Sanchez. Sa Lunes, Marso 22, magsisimula na ang pagpapalabas sa inaabangang serye na \"Huwag Kang Mangamba\" na pinagbibidahan nina Andrea Brillantes, Francine Diaz, Seth Fedelin at Kyle Echarri. Ang \"Huwag Kang Mangamba\" ang pinakabagong inspirational series ng ABS-CBN na hango sa kanta ng worship musical group na Bukas Palad Music Ministry, na likha naman ni Fr. Manoling Francisco. Tampok din sa serye sina Eula Valdes, Mylene Dizon, Diether Ocampo, Enchong Dee, Matet de Leon, Dominic Ochoa, at RK Bagatsing. Mapapanood ang \"Huwag Kang Mangamba\" ngayong Marso 20 sa WeTV iflix, 46 oras bago ito umere sa Kapamilya Channel, Kapamilya Online Live, A2Z at TV5. Related videos: '}]"
      ]
     },
     "execution_count": 7,
     "metadata": {},
     "output_type": "execute_result"
    }
   ],
   "source": [
    "#check contents\n",
    "news_list_json"
   ]
  },
  {
   "cell_type": "code",
   "execution_count": 8,
   "metadata": {},
   "outputs": [],
   "source": [
    "#export\n",
    "import json\n",
    "\n",
    "with open('news_data.json', 'w', encoding='utf-8') as outfile:\n",
    "    json.dump(news_list_json, outfile) "
   ]
  },
  {
   "cell_type": "code",
   "execution_count": null,
   "metadata": {},
   "outputs": [],
   "source": []
  }
 ],
 "metadata": {
  "kernelspec": {
   "display_name": "Python 3",
   "language": "python",
   "name": "python3"
  },
  "language_info": {
   "codemirror_mode": {
    "name": "ipython",
    "version": 3
   },
   "file_extension": ".py",
   "mimetype": "text/x-python",
   "name": "python",
   "nbconvert_exporter": "python",
   "pygments_lexer": "ipython3",
   "version": "3.7.3"
  }
 },
 "nbformat": 4,
 "nbformat_minor": 2
}
