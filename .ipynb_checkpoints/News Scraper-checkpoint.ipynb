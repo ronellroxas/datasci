{
 "cells": [
  {
   "cell_type": "markdown",
   "metadata": {},
   "source": [
    "## ABS-CBN Latest News Scraper\n",
    "Scrapes news.abs-cbn.com for the latest news."
   ]
  },
  {
   "cell_type": "code",
   "execution_count": 1,
   "metadata": {},
   "outputs": [],
   "source": [
    "import requests\n",
    "\n",
    "URL=\"https://news.abs-cbn.com/news\""
   ]
  },
  {
   "cell_type": "code",
   "execution_count": 2,
   "metadata": {},
   "outputs": [],
   "source": [
    "page=requests.get(URL)\n"
   ]
  },
  {
   "cell_type": "markdown",
   "metadata": {},
   "source": [
    "### Get initial list of latest news\n",
    "this portion will retrieve the official list of latest news found in [abs-cbn news page](https://news.abs-cbn.com/news). Saves every link to the actual article for navigation later."
   ]
  },
  {
   "cell_type": "code",
   "execution_count": 3,
   "metadata": {},
   "outputs": [],
   "source": [
    "from bs4 import BeautifulSoup\n",
    "\n",
    "soup = BeautifulSoup(page.content, 'html.parser')"
   ]
  },
  {
   "cell_type": "code",
   "execution_count": 4,
   "metadata": {},
   "outputs": [],
   "source": [
    "#get latest news div\n",
    "latest_news_div=soup.find(id='latest-news')\n",
    "#get each latest news\n",
    "latest_news_list = latest_news_div.find_all('li')"
   ]
  },
  {
   "cell_type": "code",
   "execution_count": 5,
   "metadata": {},
   "outputs": [
    {
     "data": {
      "text/plain": [
       "['/sports/03/19/21/mobile-legends-what-to-expect-on-mpl7s-opening-weekend',\n",
       " '/entertainment/03/19/21/iigo-pascual-collaborates-with-foreign-artists-annal-mateus-asato-mfmf-for-goodbye',\n",
       " '/news/03/19/21/palace-hits-query-on-slow-vaccine-procurement-despite-billions-in-loans',\n",
       " '/life/03/19/21/papet-pasyon-a-puppet-show-on-passion-of-christ-continues-online',\n",
       " '/news/03/19/21/pasig-city-enforces-granular-lockdown-in-37-areas-as-covid-19-cases-surge',\n",
       " '/video/news/03/19/21/naka-lockdown-na-govt-agencies-tuloy-pa-rin-ang-serbisyo-csc',\n",
       " '/news/03/19/21/duterte-oks-using-all-astrazeneca-doses-on-hand-as-first-jab-for-health-workers',\n",
       " '/business/03/19/21/antitrust-body-oks-manila-city-govt-waterfront-manila-joint-venture-for-reclamation-project',\n",
       " '/life/03/19/21/ph-international-dive-expo-goes-digital-amid-pandemic',\n",
       " '/entertainment/03/19/21/sylvia-sanchez-ibinahagi-ang-magandang-kapalit-nang-pagkakaroon-noon-ng-covid-19',\n",
       " '/life/03/19/21/look-after-dawn-zulueta-andrea-torres-dresses-up-as-bridgerton-character',\n",
       " '/overseas/03/19/21/hk-stepmother-accused-of-murdering-5-year-old-girl-blames-childcare-stress',\n",
       " '/news/03/19/21/palace-says-all-filipinos-allowed-to-enter-ph-even-as-covid-19-cases-climb',\n",
       " '/video/news/03/19/21/hiling-ng-ntf-sa-overseas-pinoys-ipagpaliban-muna-paguwi-sa-gitna-ng-covid-19-surge',\n",
       " '/business/03/19/21/doctors-suspected-jan-catherine-sy-was-stricken-by-leptospirosis']"
      ]
     },
     "execution_count": 5,
     "metadata": {},
     "output_type": "execute_result"
    }
   ],
   "source": [
    "news_links_list = list(map(lambda x: x.find('a')['href'], latest_news_list))\n",
    "news_links_list"
   ]
  },
  {
   "cell_type": "markdown",
   "metadata": {},
   "source": [
    "### Get individual news article details\n",
    "Navigates to every link of the actual news article obtained earlier to obtain details."
   ]
  },
  {
   "cell_type": "code",
   "execution_count": 19,
   "metadata": {},
   "outputs": [
    {
     "name": "stdout",
     "output_type": "stream",
     "text": [
      "Saved article Mobile Legends: What to expect on MPL7’s opening weekend\n",
      "Saved article Iñigo Pascual collaborates with foreign artists Annalé, Mateus Asato, MFMF for “Goodbye”\n",
      "Saved article 'Nasaan ka bakuna?': Palace hits query on slow vaccine procurement despite billions in loans\n",
      "Saved article 'Papet Pasyon,' a puppet show on Passion of Christ, continues online\n",
      "Saved article Pasig City enforces granular lockdown in 37 areas as COVID-19 cases surge\n",
      "Saved article Naka-lockdown na gov't agencies tuloy pa rin ang serbisyo: CSC\n",
      "Saved article Duterte OKs using all AstraZeneca doses on hand as first jab for health workers\n",
      "Saved article Antitrust body OKs Manila city gov't, Waterfront Manila joint venture for reclamation project\n",
      "Saved article PH international dive expo goes digital amid pandemic\n",
      "Saved article Sylvia Sanchez, ibinahagi ang 'magandang' kapalit nang pagkakaroon noon ng COVID-19\n",
      "Saved article LOOK: After Dawn Zulueta, Andrea Torres dresses up as 'Bridgerton' character\n",
      "Saved article HK stepmother accused of murdering 5-year-old girl, blames childcare stress\n",
      "Saved article Palace says all Filipinos allowed to enter PH even as COVID-19 cases climb\n",
      "Saved article Hiling ng NTF sa overseas Pinoys: Ipagpaliban muna paguwi sa gitna ng COVID-19 surge\n",
      "Saved article Doctors suspected Jan Catherine Sy was stricken by leptospirosis\n",
      "Done!\n"
     ]
    }
   ],
   "source": [
    "import time\n",
    "\n",
    "#array to store news data\n",
    "news_list_json = []\n",
    "\n",
    "multimedia = False\n",
    "for link in news_links_list:\n",
    "    #forge news link to navigate\n",
    "    news_link = 'https://news.abs-cbn.com/' + link\n",
    "    \n",
    "    #get news article page\n",
    "    page = requests.get(news_link)\n",
    "    soup = BeautifulSoup(page.content, 'html.parser')\n",
    "    \n",
    "    #get details\n",
    "    title=soup.find(class_='news-title').contents[0].strip()\n",
    "    \n",
    "    #author div\n",
    "    author_block = soup.find(class_='author-block') \n",
    "    author = author_block.find(class_='editor').text.strip()\n",
    "    date = author_block.find(class_='date-posted').text.strip()\n",
    "    \n",
    "    #full article contents\n",
    "    article_content = soup.find(class_='article-content')\n",
    "    \n",
    "    #for media articles\n",
    "    if(article_content == None):\n",
    "        article_content = soup.find(class_='media-caption')\n",
    "    \n",
    "    #for articles with different DOM structure\n",
    "    if(article_content == None):\n",
    "        article_content = soup.find(class_='block-content')\n",
    "        multimedia = True\n",
    "\n",
    "    if(multimedia): #articles with different DOM architecture\n",
    "        article = article_content.find_all('p') #get each paragraph<p> of article\n",
    "        full_article = article[len(article) - 1].text.strip()  \n",
    "    else:\n",
    "        article_paragraphs = article_content.find_all('p') #get each paragraph<p> of article\n",
    "        clean_paragraphs = list(map(lambda x: x.text.strip(), article_paragraphs)) #get text from each p\n",
    "        \n",
    "         #remove 'related videos:' if included\n",
    "        if(clean_paragraphs[-1].lower() == 'related videos:' or clean_paragraphs[-1].lower() == 'related video:' ):\n",
    "            clean_paragraphs = clean_paragraphs[0:-1]\n",
    "        full_article = ' '.join(clean_paragraphs) #join paragraphs into one text\n",
    "    \n",
    "    #save to array\n",
    "    news_list_json.append({\n",
    "        'title': title,\n",
    "        'author': author,\n",
    "        'date': date,\n",
    "        'content': full_article\n",
    "    })\n",
    "    \n",
    "    multimedia = False\n",
    "    print(f'Saved article {title}')\n",
    "    time.sleep(11) #10 sec delay from robots.txt\n",
    "\n",
    "print('Done!')"
   ]
  },
  {
   "cell_type": "code",
   "execution_count": 21,
   "metadata": {},
   "outputs": [
    {
     "data": {
      "text/plain": [
       "[{'title': 'Mobile Legends: What to expect on MPL7’s opening weekend',\n",
       "  'author': 'ABS-CBN News',\n",
       "  'date': 'Mar 19 2021 02:44 PM',\n",
       "  'content': 'MANILA - The Philippine leg of the Mobile Legends: Bang Bang Professional League kicks off its 7th installment Friday, March 19, with a string of games expected to keep Pinoy MLBB enthusiasts eyes peeled. Here are the matches scheduled on the opening weekend of the games, from March 19 to 21: MARCH 19 (FRIDAY) Last year’s first runner-up Smart Omega will go up against third placers Execration ML to open the season with a game starting at 4 p.m. on March 19. After getting in the tournament through the qualifying round, Work Auster Force will square up against AURA Philippines at 6 p.m. on the same day. MARCH 20 (SATURDAY) Another qualifying round clincher, Laus Playbook Esports Team, will go head to head with Nexplay Esports on Day 2 of the tournament at around 4 p.m. on March 20. Meanwhile, BREN Esports looks to carry the momentum from its domestic and world title run as it squares up with ONIC Philippines on March 20 at 6 p.m. MARCH 21 (SUNDAY) AURA Philippines will start the March 21 games with a match against Blacklist International at 4 p.m. BREN Esports will then cap off the opening weekend with a game vs Nexplay Esports. MPL officials previously announced that Cignal Ultra’s matches from March 19-27 had to be postponed \"due to health and safety concerns.\" Before the postponement, Cignal Ultra was scheduled to face Work Auster Force, Omega Esports and Onic PH. Group stages, which will last for 8 weeks, will be done in a round robin format. Group A includes BREN Esports, Aura PH, Onic PH, Cignal Ultra, and Work-Auster Force; while \\u2028Group B will have Omega Esports, Execration, Blacklist International, Nexplay Esports, and Laus Playbook Esports. The top 4 teams for each group will then proceed to the playoffs slated on May 29 and 30. The championship is scheduled on June 5 and 6.'},\n",
       " {'title': 'Iñigo Pascual collaborates with foreign artists Annalé, Mateus Asato, MFMF for “Goodbye”',\n",
       "  'author': 'ABS-CBN News',\n",
       "  'date': 'Mar 19 2021 02:41 PM',\n",
       "  'content': 'MANILA -- Singer-actor Iñigo Pascual has teamed up with Korean-American singer Annalé, Brazilian guitar maestro Mateus Asato, and Malaysia-based producer trio MFMF to remake the song “Goodbye” which was originally released in the Korean language last year. On his Instagram account, Pascual said he was grateful to be part of the project which featured artists from different parts of the world. A post shared by Inigo Dôminic Pascual 💎 (@inigopascual)  “Thanks to the team that made it possible,” he said in the caption. The emotional song “Goodbye” was first released by Annalé in 2020 but in Korean. My brand new single #Goodbye with @InigoDPascual, @mateusasato & @wearemfmf is OUT NOW! 😍😍\\n\\r\\nI am so grateful to have collaborated with such talented artists! Love the diversity of the artists involved in this project 🇰🇷🇺🇸🇵🇭🇧🇷🇲🇾✌🏻#Annalé #InigoPascual #MateusAsato#MFMF pic.twitter.com/nTpXUThxG7  The Korean-American songwriter lauded the diversity of the new project which was released on March 17. “I am so grateful to have collaborated with such talented artists! Love the diversity of the artists involved in this project,” she said on her Twitter account. Meanwhile, the trio MFMF is also elated to be part of the new project, their second international collaboration as a group. “This is our second ever international collaboration and we are very grateful and honoured to be a part of this song alongside these amazing artists,” the group said on their Instagram account. “Goodbye” is now available on all digital streaming platforms including YouTube and Spotify.'},\n",
       " {'title': \"'Nasaan ka bakuna?': Palace hits query on slow vaccine procurement despite billions in loans\",\n",
       "  'author': 'Jamaine Punzalan, ABS CBN News',\n",
       "  'date': 'Mar 19 2021 02:40 PM',\n",
       "  'content': 'MANILA — Malacañang on Friday objected to a lawmaker\\'s inquiry into the pace of government\\'s procurement of COVID-19 vaccines given billions in pesos of loans that the country has incurred for pandemic response. Sen. Panfilo Lacson on Thursday tweeted a list of Philippine loans from various organizations and asked, \"Nasaan ka bakuna?\" (Where are you vaccine?) WB/ADB/AIIB approved loans for Ph Covid vaccines:\\r\\nApril 20,2020 - US$100M\\r\\nMay 28, 2020 - US$500M\\r\\nDec 16, 2020 - US$600M\\r\\nMar 12, 2021 - US$500M\\r\\nMar, 2021 - US$400M\\r\\nMar, 2021 - US$300M\\r\\nplus:\\r\\nP10B - DOH Bayanihan budget\\r\\nequals:\\r\\nP126.75B@P48.64 per US$1\\r\\nNASAAN KA BAKUNA? There is no government official who has access to these funds, said Palace spokesman Harry Roque. “Mula pagbili o procurement hanggang sa pagbayad ng mga bakuna ay ima-manage ng ating multilateral partners. Ibig sabihin po, bagamat tayo’y binigyan ng kumbaga, credit line, iyong pag-draw down po sa credit line para sa pagbili ng bakuna, didiretso po ‘yan sa vaccine manufacturer,” Roque said in a press briefing. (From procurement to payment of the vaccines, these are managed by our multilateral partners. That mean that even if we were granted credit line, drawing down this credit line for the procurement of vaccines will go straight to vaccine manufacturers.) “Hindi po dapat magtanong na sa kabila ng mga nautang na salapi e nasaan ang bakuna. Meron lang tayong approved loans at iyong mga proceeds po ng mga loans, diretsong ibabayad ‘yan sa vaccine manufacturers,” he added (We should not ask where the vaccines are despite our loans. We have approved loans and the proceeds of these loans will go straight to vaccine manufacturers.) The Philippines has so far secured 600,000 China-donated COVID-19 shots from Beijing-based Sinovac Biotech, and 525,600 doses of Britain\\'s AstraZeneca-Oxford vaccine through the COVAX Facility. Authorities expect to receive 1.4 million more Sinovac doses in March, and about 900,000 AstraZeneca doses this month or in early April, said the country\\'s vaccine \"czar\" Secretary Carlito Galvez. Battling a surge in COVID-19 cases, the Philippines this year aims to vaccinate 70 million people or two-thirds of its population against the respiratory disease.'},\n",
       " {'title': \"'Papet Pasyon,' a puppet show on Passion of Christ, continues online\",\n",
       "  'author': 'ABS-CBN News',\n",
       "  'date': 'Mar 19 2021 02:32 PM',\n",
       "  'content': 'MANILA -- The annual tradition of \"Papet Pasyon,\" a puppet show on the Passion of Christ, continues despite the pandemic. The 36th edition of the show will be held online at 3 p.m. on Palm Sunday, March 28, via the Facebook pages of the University of the Philippines (UP) Arts and Letters and Teatrong Mulat ng Pilipinas.  \"Papet Pasyon\" is a kid-friendly production that uses puppets to depict Jesus Christ\\'s life, suffering, death, and resurrection. It was written by the late National Artist Amelia Lapeña-Bonifacio, who has been dubbed the \"Grande Dame of Southeast Asian Children\\'s Theater.\" Previous editions of \"Papet Pasyon\" were held at the Amelia Lapeña-Bonifacio Papet Teatro Museo in Quezon City, and used Filipino-looking puppets by local sculptors.'},\n",
       " {'title': 'Pasig City enforces granular lockdown in 37 areas as COVID-19 cases surge',\n",
       "  'author': 'ABS-CBN News',\n",
       "  'date': 'Mar 19 2021 02:27 PM',\n",
       "  'content': \"MANILA - A total of 37 areas in Pasig City will be placed under granular lockdown for two weeks beginning Friday, Mayor Vico Sotto has said, as the city government sought to prevent further spread of COVID-19. “With the surge of cases and the emergence of variants, and upon recommendation of our City Epidemiology and Surveillance Unit (CHD-CESU), I am declaring granular lockdown in 37 areas of Pasig City,” Sotto said in a Facebook post. Sotto’s order is contained in Executive Order No. PCG-18, series of 2021, which he signed Thursday. Under the EO, the following areas will be placed under granular lockdown from March 19 to April 1: BAGONG ILOG: BAMBANG: CANIOGAN: DELA PAZ: KAPITOLYO: MANGGAHAN: MAYBUNGA: ORANBO: PALATIW: PINAGBUHATAN: ROSARIO: SAN JOAQUIN: SAN MIGUEL: SAN NICOLAS: STA CRUZ: STA. LUCIA: SUMILANG: UGONG: Pasig’s CHD-CESU said there has been a 262.03 percent increase in the total number of cases in the city in the last two weeks. The mayor said only emergency cases and those considered as authorized personnel outside of residence (APOR) are allowed to go out in locked down areas. “Magiging mas mahigpit ang mga barangay at pulis sa mga lugar na ito. Bawal ang mga bisita at bawal lumabas ng bahay kung hindi APOR,” he said. The Philippines on Thursday reported 5,290 new coronavirus infections, bringing the country's total number of cases to 640,984 as it saw a fresh surge a year into the pandemic lockdown.\"},\n",
       " {'title': \"Naka-lockdown na gov't agencies tuloy pa rin ang serbisyo: CSC\",\n",
       "  'author': 'ABS-CBN News',\n",
       "  'date': 'Mar 19 2021 02:16 PM',\n",
       "  'content': \"MAYNILA - Tuloy-tuloy pa rin ang serbisyo ng mga ahensiya ng pamahalaan kahit pa marami sa mga ito ay kasalukuyang naka-lockdown dahil sa pagkalat ng kaso ng COVID-19. “Patuloy lamang po ang serbisyo pagkat ang ating government agencies po nakapag-adopt na, nakapag-adjust at very flexible sila sapagkat meron nang online appointments, online processing ng mga dokumento,” pahayag ni Liza Agamata, director ng Public Assistance and Information Office ng Civil Service Commission. Pero hinikayat ni Agamata ang publiko na mag-check sa mga website ng nais na puntahan na ahensiya ng gobyerno para matiyak na bukas ito nang hindi masayang ang kanilang oras kung balak pumunta. “'Yung ating mga kababayan po, ‘wag po silang basta-basta pupunta sa mga government agencies lalo na kung ‘di nila alam kung naka-lockdown o may mataas na infection. Punta lamang po sila sa website at kung may hotline po tumawag sa hotline,” sabi ni Agamata. Ngayong Biyernes ay balik-operasyon na ang CSC matapos na isailalim sa lockdown simula noong Marso 15. Bukod sa CSC, naka-lockdown din ang Senate, House of Representatives,, Department of Social Welfare and Development at ang on-site work ng Department of Agriculture at Department of Justice. Sa panayam sa TeleRadyo Biyernes ng umaga, ipinaliwanag ni Agamata na may mga kawani ng mga ahensiya ang naka-work from home naman at naka-online na rin ang karamihan sa serbisyo nila. “In fact, ini-encourage natin ang ating public kung meron silang nais na maging transaksiyon with government offices, 'wag po silang ora-oradang pupunta, check po nila website,” sabi niya. Tulad aniya ng CSC, meron na silang tinatawag na online registration appointment scheduling system. Sa kaniyang pagkakaalam din, ang Land Transportation Office ay nakagawa ng pitong online driver’s licensing renewal offices. Maging ang iba pang ahensiya ng pamahalaan ay may online service na rin. “Halos lahat ng ating government agencies ay nakapag-adapt na po,” dagdag niya. Sakaling wala naman aniyang sumagot sa mga hotline numbers ng mga website ng government agencies, maaaring makatulong din ang Contact Center ng Bayan ng CSC sa pag-text sa numerong 0908-881-6565 o pag-email sa email@contactcenterngbayan.gov.ph.\\r\\n\\xa0\\r\\n“Ang aming Contact Center ng Bayan tatanggap po kami ng request for assistance at ito naman po ay agaran naming ibibigay sa ahensiya ng gobyerno. Meron kaming Bilis Aksyon Partner na tututok sa mga request,” sabi niya. - TeleRadyo 19 Marso 2021\"},\n",
       " {'title': 'Duterte OKs using all AstraZeneca doses on hand as first jab for health workers',\n",
       "  'author': 'Jamaine Punzalan, ABS CBN News',\n",
       "  'date': 'Mar 19 2021 02:14 PM',\n",
       "  'content': 'MANILA — President Rodrigo Duterte has approved using up all of the country\\'s current stock of 525,600 AstraZeneca COVID-19 jabs as first dose to protect more health workers. Health Secretary Francisco Duque III earlier this week recommended that all of the doses be used as the first shot, instead of setting aside some of these for the second shot for health workers. The time interval for administering the second dose of AstraZeneca is 3 months from the first jab. This means the country would have enough time to get another shipment of AstraZeneca doses from vaccine-sharing COVAX Facility for the second jab, Duque told Duterte in a taped meeting on Monday. \"The President has approved the request to utilize all COVAX-donated AstraZeneca vaccine doses as first-dose vaccination in order to protect a larger number of frontline healthcare workers in areas witnessing increased transmission,\" said Duterte\\'s spokesman Harry Roque. Executive Secretary Salvador Medialdea will release a memorandum on this, Roque said in a press briefing. The Philippines is expected to get 979,200 AstraZeneca shots from COVAX this March or in early April, the country\\'s vaccine \"czar\" Secretary Carlito Galvez has said. The government is also set to receive 1.4 million COVID-19 shots from Beijing-based Sinovac Biotech this month, said Galvez. These will be on top of the 600,000 Sinovac doses that arrived in the country in late February. Battling a surge in COVID-19 cases, the Philippines this year aims to vaccinate 70 million people or two-thirds of its population against the respiratory disease.'},\n",
       " {'title': \"Antitrust body OKs Manila city gov't, Waterfront Manila joint venture for reclamation project\",\n",
       "  'author': 'ABS-CBN News',\n",
       "  'date': 'Mar 19 2021 01:49 PM',\n",
       "  'content': 'MANILA— The Philippine Competition Commission said Friday it has approved the joint venture between the Manila City government and Waterfront Manila Premier Development Inc for a reclamation project at the Manila Bay. In a decision dated March 9, the PCC found that the deal does not result in substantial lessening of competition, it said in a statement. The transaction \"results in a creation of a new market that is conventionally pro-competition,\" the PCC said. “The transaction is a new area of investment formed for the creation of a residential and commercial real estate development project. This will expand the existing market and likely create an opportunity for the emergence of new markets for commercial and residential real estate within the City of Manila,” the decision read. The joint venture was established for the \"Manila Waterfront City\" reclamation project, with the Manila LGU holding 51 percent of the arrangement and Manila Waterfront with 49 percent, the PCC said. Manila Waterfront City is a raw land reclamation and development project covering 318 hectares of foreshore and offshore areas in Manila, the agency said. A central business district, a gateway, a marina, a waterfront, entertainment, health and education hubs will be built in the said development, the PCC said. Waterfront Manila and its partner developer will contribute capital and expertise while the Manila LGU will contribute rights over municipal waters where the project will be developed, the statement said. The PCC is mandated to review mergers, acquisitions and joint ventures to ensure deals won\\'t harm competition and the interest of consumers.'},\n",
       " {'title': 'PH international dive expo goes digital amid pandemic',\n",
       "  'author': 'ABS-CBN News',\n",
       "  'date': 'Mar 19 2021 01:42 PM',\n",
       "  'content': 'MANILA -- Not even a pandemic can stop the Philippine International Dive Expo (PHIDEX), dubbed as the country\\'s largest platform for the diving community, as it kicked off virtually on Friday. Themed \"Our Sea, Our Story,\" this year\\'s PHIDEX features discussions by prominent experts on the sea, both in the Philippines and abroad. Among them are California Academy of Sciences curator Dr. Terry Gosliner, French-British underwater photographer Henley Spiers, Emmy Award-winning husband-and-wife documentary team Howard and Michele Hall, Professional Association of Diving Instructors ambassador and Philippine Commission on Sports Scuba Diving commissioner Bo Mancao, University of the Philippines marine economist and community scientist Tara Abrina, and German underwater photographer Tobias Friedrich. Participants can register for free and view all the lectures and talks on the PHIDEX website. The expo will run until March 21.  Tourism Secretary Bernadette Romulo-Puyat said PHIDEX 2021 is one of their ways of supporting the country\\'s diving industry. \"As the Philippines is known around the world for its diving destinations, it is truly important that we do everything we can to sustain the local diving industry. The latest recognition we received was from the 2020 World Travel Awards which named the Philippines as the World’s Leading Dive Destination,\" she said. \"This year\\'s PHIDEX is a step in the right direction to sustain our gains toward recovery, for all to enjoy the natural wonders our archipelago can provide,\" she added. For this year\\'s expo, the PHIDEX website will host three stages: the main stage, the expo stage, and the panel stage. Aside from attending discussions, participants can also buy equipment and experiences from partners and exhibitors during the three-day event through a virtual marketplace called Dive Travel Exchange or TRAVEX.'},\n",
       " {'title': \"Sylvia Sanchez, ibinahagi ang 'magandang' kapalit nang pagkakaroon noon ng COVID-19\",\n",
       "  'author': 'ABS-CBN News',\n",
       "  'date': 'Mar 19 2021 01:39 PM',\n",
       "  'content': 'MAYNILA -- Muling binalikan ng aktres na si Sylvia Sanchez ang naging karanasan na sumubok sa tatag ng kanyang pananalig sa Diyos. Noong nakaraang taon, nagpositibo sa coronavirus si Sanchez at kanyang mister na si Art Atayde. Sa media conference para sa pinakabagong serye ng ABS-CBN na \"Huwag Kang Mangamba\" kung saan isa si Sanchez sa mga bituin, sinabi ng aktres na mas naging matatag ang kanilang pamilya dahil dito. \"Honestly, sa totoo lang, wala akong kuwestiyon kay Lord bakit nangyari sa akin \\'yon. Wala akong pain, wala akong sakit, kung bakit nangyari sa amin \\'yon. Kasi ang kapalit nun ay mas naging close ang buong pamilya. May magandang kapalit \\'yon. Nagkaroon ako ng takot, yes. Para kay Chubby and kay Gela, kay Arjo, kay Ria na mahawa, lalo na \\'yung bunso. Kasi at that time walang puwedeng sumama (na hindi) COVID-positive sa loob ng hospital. Natakot ako roon para sa bunso talaga,\" ani Sanchez. Giit ng aktres, maraming biyaya ang dumating sa kanyang buhay mula nang gumaling sila sa COVID-19. \"Sumatutal walang negative kahit ano na nangyari sa buhay ko last year kasi ang kapalit nun blessings. Ang dami-daming nangyaring magaganda sa buhay ko after nun. So papaano ko kukuwestiyunan \\'yung isang beses na nagka-COVID kami, na thank God nalagpasan namin, kumpara doon sa binigay naman Niya after? Sabi ko nga, lahat tayo, karamihan sa atin may kuwestiyon, bakit Lord, bakit ganun?\\' Pero darating \\'yung time na \\'yung mga katanungan natin masasagot din \\'yan later on. \\'Di natin alam kung kailanman, basta darating ang kasagutan sa tanong natin na \\'yon,” dagdag ni Sanchez. Ayon kay Sanchez, isang malaking biyaya niyang maituturing ang dami rin ng mga taong nagdasal para sa kanyang panggaling. “Noong time na nagka-COVID ako, ang dami-dami nagdadasal. Tapos nagugulat ako na hindi ko mga kilala \\'yung iba, nag-te-text, may nagpapa-text. \\'Di ba blessing \\'yon? Ni minsan hindi ako nagsalita na \\'bakit, Lord?\\' ...Never naman ako iniwan ng Diyos. Ako ang nang-iwan sa Diyos. Tini-take for granted ko Siya. Maraming beses. Pero Siya tuloy-tuloy niya akong niyayakap. Never naman nang-iwan ang Diyos sa atin. Nandiyan lang Siya, naghihintay lang Siya kung kailan natin Siya tawagin siya at kailan natin siya i-embrace totally sa buhay,” ani Sanchez. Sa Lunes, Marso 22, magsisimula na ang pagpapalabas sa inaabangang serye na \"Huwag Kang Mangamba\" na pinagbibidahan nina Andrea Brillantes, Francine Diaz, Seth Fedelin at Kyle Echarri. Ang \"Huwag Kang Mangamba\" ang pinakabagong inspirational series ng ABS-CBN na hango sa kanta ng worship musical group na Bukas Palad Music Ministry, na likha naman ni Fr. Manoling Francisco. Tampok din sa serye sina Eula Valdes, Mylene Dizon, Diether Ocampo, Enchong Dee, Matet de Leon, Dominic Ochoa, at RK Bagatsing. Mapapanood ang \"Huwag Kang Mangamba\" ngayong Marso 20 sa WeTV iflix, 46 oras bago ito umere sa Kapamilya Channel, Kapamilya Online Live, A2Z at TV5. Related videos: '},\n",
       " {'title': \"LOOK: After Dawn Zulueta, Andrea Torres dresses up as 'Bridgerton' character\",\n",
       "  'author': 'ABS-CBN News',\n",
       "  'date': 'Mar 19 2021 01:13 PM',\n",
       "  'content': 'MANILA -- After Dawn Zulueta, another local celebrity has dressed up as a character from the popular period drama \"Bridgerton.\" On Thursday, Andrea Torres shared photos of her photo shoot as Daphne Bridgerton in celebration of Women\\'s Month. Quoting the character, she said in an Instagram post: \"You think that just because I am a woman, I am incapable of making my own choices?\" She went on to remind her 1.2 million Instagram followers that women \"can be the heroine in our own life story because we have and will always have that power.\" A post shared by Andrea Torres (@andreaetorres)  A post shared by Andrea Torres (@andreaetorres) Torres now joins the likes of Zulueta, who became viral early this year for channeling characters from \"Bridgerton\" and other period dramas such as \"The Queen\\'s Gambit.\" Zulueta earlier said that dressing up as her favorite characters is not just a fun activity for her, but also her way of not letting her clothes and beauty products go to waste during the quarantine.'},\n",
       " {'title': 'HK stepmother accused of murdering 5-year-old girl, blames childcare stress',\n",
       "  'author': 'Jasmine Siu, South China Morning Post',\n",
       "  'date': 'Mar 19 2021 01:10 PM',\n",
       "  'content': 'A Hong Kong woman on trial for murdering her five-year-old stepdaughter was mentally sound despite feeling so stressed by childcare she “hated” the girl, a court heard on Thursday. “She didn’t look depressed to me,” psychiatrist Dr Amy Liu testified in the High Court, referring to her interview with the mother a week after the defendant’s arrest in January 2018. “She was not tearful. She was actually quite polite and very calm. She was not diagnosed with any formal kind of psychiatric illness.” Liu, a consultant at Castle Peak Hospital, said she interviewed the mother, now 30, on four more occasions, during which she reported suffering from a low mood as a result of stress from childcare and her first experience of managing such a large household. But the expert found these symptoms were not pervasive or severe enough to warrant a diagnosis, because they were reactive to stress and not as generalised as one would expect of depression, which affects the person as a whole, given its nature as a biological illness involving an imbalance of neurotransmitters in the brain. That finding was supported by the fact the mother did not require any medical attention in the three years between her arrest and trial, as well as a five-month record of more than 15,000 messages with her husband and a friend, which offered an insight into her overall mood and motivation to connect with others. In particular, Liu noted the mother’s irritability and claim of impaired judgment was specifically directed to the deceased and her eight-year-old stepson, without any impact on her loving relationship with her husband and biological daughter, then aged seven. “You won’t just be irritable towards two people,” the prosecution witness said. “This is not mental illness, it’s just human nature – and if it’s human nature, it’s an issue for the jury.” The stepmother and the children’s 29-year-old father have admitted to child cruelty inflicted upon the deceased and her brother over 150 days from August 10, 2017, but denied murdering the girl, who died of septicaemia on the following January 6. Prosecutors said the couple had indirectly but significantly contributed to the child’s death because their prolonged abuse and neglect had considerably weakened her immune system and ability to fight the bacterial infection that ultimately killed her. The High Court heard both defendants had sought to plead guilty to manslaughter – a bid rejected by the prosecution – with the mother contending she was suffering from a recurrent depressive disorder at the material time. Liu’s expert report revealed the stepmother’s account of her childhood, from being a single child having a poor relationship with her father and experiencing her parents’ divorce at about age 16, to being raped twice in her teenage years, going through an abortion with her then husband, and a divorce in 2015. The woman then met her current husband on WeChat in February 2016, moved in with his family the following September and tied the knot two months later. She also told the psychiatrist she had a bad relationship with her husband’s family and it was decided that they should move in with her mother, which took place on August 10, 2017. A month later, she started to hit her stepchildren, first on their palms, then with a rattan stick on their buttocks and soles, because the boy told lies while the girl exhibited poor self-care and did not respond to her, the report said. She added that her husband was also involved in hitting the children, claiming he was responsible for 60 to 70 per cent of the beatings and that he was more forceful as he would also throw punches. She further admitted to the psychiatrist she had tied up the children to stop them from picking their scars, and had arranged for their absences to prevent the school from seeing the beating marks. On Thursday, her defence counsel Caesar Lo said her childhood experiences “might have sowed the seed for future psychological illness”, and she was depressed at the material time, with symptoms such as sleeping problems, headaches, and feelings of helplessness and desperation, as reflected by her WeChat and WhatsApp messages. “At first I was truly fond of them,” she texted her friend on December 5. “Now I find them annoying from the bottom of my heart … I don’t even want to talk to them. I’m under a lot of stress.” A week later she said: “It’s better when the two elder ones return from school – once it’s just the two of us, I really want to die. “Sometimes I see the injuries I couldn’t bear it,” she continued on December 11. “But once [the child] starts talking, making noises, nagging, I feel so much hate. But I don’t think I would hit [the child] again, I’ve [reached the point of] scaring myself, even when [the child] isn’t afraid.” Later she texted the same friend: “I kind of want to strangle myself to death. The family of six can burn charcoal together. Quick and easy.” The psychiatrist, however, maintained under cross-examination that these messages were not indicative of depression or adjustment disorder, as she found the mother was just expressing her emotions in a transient moment, without any actual plan to commit suicide. Liu added the woman had specifically denied having recurrent suicidal thoughts. The children’s 56-year-old step-grandmother also denied four counts of child cruelty. None of the defendants or their relatives can be identified due to a gag order from Mr Justice Albert Wong Sung-hau, aimed at protecting the identities of the children. The jury trial continues on Friday.'},\n",
       " {'title': 'Palace says all Filipinos allowed to enter PH even as COVID-19 cases climb',\n",
       "  'author': 'ABS-CBN News',\n",
       "  'date': 'Mar 19 2021 01:07 PM',\n",
       "  'content': 'MANILA — All Filipinos are allowed to return to the Philippines, Malacañang said on Friday, reversing an earlier pronouncement that only overseas Filipino workers may fly back home amid a renewed surge in COVID-19 cases. \"Lahat ng Filipino citizens, whether returning overseas Filipinos o overseas Filipino workers, ay pinapayagang makabalik ng Pilipinas,\" said Palace spokesman Harry Roque. (All Filipino citizens, whether returning overseas Filipinos or overseas Filipino workers, are allowed to return to the Philippines.) National Task Force on COVID-19 spokesman Restituto Padilla, meanwhile, urged overseas Filipinos to put off their plans to fly home to support containment efforts. “Maganda po check niyo website ng Bureau of Immigration pero kung pwede pa kayong manatili kasama ang inyong anak at hindi naman kayo nagmamadaling umuwi, ang ating abiso ay ipagpaliban n’yo na lang po \\'yung pagbiyahe para makatulong sa ginagawa nating hakbang para mapigilan \\'yung pagpasok ng new variants,” sabi ni Padilla,\" he said in a TeleRadyo interview. (It\\'s good if you can check the Bureau of Immigration website but if you and your children are not in a hurry to come home, our advice is to postpone your plans so you can help in our efforts to prevent the entry of new variants.) The coronavirus task force said earlier this week that foreign citizens and returning nationals who have not been working overseas will not be able to enter the country from March 20 until April 19. Roque said foreigners would still be barred from entering the country effective March 22, 12:01 a.m. until April 21, 11:59 p.m. Exceptions to the rule include diplomats, members of international organizations and their dependents, foreigners involved in medical repatriation, foreign seafarers under green lane programs for crew change, foreign spouses and children of Filipinos traveling with them, and emergency or humanitarian cases, said Roque. The Civil Aeronautics Board on Tuesday capped passenger arrivals at Manila\\'s international airport to a maximum of 1,500 per day from March 18 to April 19 to help contain the spread of COVID-19, which has infected 640,984 people in the Philippines. — With a report from Reuters'},\n",
       " {'title': 'Hiling ng NTF sa overseas Pinoys: Ipagpaliban muna paguwi sa gitna ng COVID-19 surge',\n",
       "  'author': 'ABS-CBN News',\n",
       "  'date': 'Mar 19 2021 01:02 PM',\n",
       "  'content': 'MAYNILA - Umapela ang tagapagsalita ng National Task Force on COVID-19 sa mga Pilipino abroad na nais umuwi sa bansa na ipagpaliban na muna ang kanilang plano para makatulong sa hakbang ng gobyerno na mapababa ang bilang ng mga kaso ng coronavirus sa Pilipinas. Ito\\'y matapos bawiin ng gobyerno ang kautusan na mga overseas Filipino workers lamang ang maaaring pumasok sa bansa sa loob ng isang buwan dahil sa pagsirit ng mga kaso. Sa paglilinaw Biyernes, sinabing lahat ng Pilipino mula ibang bansa ay maaari nang pumasok, pero hanggang 1,500 lang kada araw ang pwedeng tanggapin. “Sa mga Pilipinong pauwi, kung ‘di na maiiwasan na kailangan kayong umuwi, \\'yan po ay mapapasailalim na sa poder ng Commissioner of Immigration na maaring payagan o hindi basta sang-ayon doon sa mga lumabas na mga orders,” sabi ni NTF spokesman Restituto Padilla. Sa panayam sa TeleRadyo nitong Biyernes, inabisuhan din niya ang mga papauwi sa bansa na mag-check din muna sa website ng Bureau of Immigration. “Maganda po check niyo website ng Bureau of Immigration pero kung pwede pa kayong manatili kasama ang inyong anak at hindi naman kayo nagmamadaling umuwi, ang ating abiso ay ipagpaliban n’yo na lang po \\'yung pagbiyahe para makatulong sa ginagawa nating hakbang para mapigilan \\'yung pagpasok ng new variants,” sabi ni Padilla. Wala naman aniyang makakapigil sa mga Pilipinong nais na umuwi ng bansa basta’t ito aniya ay naaayon sa ipinatutupad na protocols ng immigration. Pansamantalang isasara ng Pilipinas ang borders nito sa mga dayuhan simula Marso 22 hanggang Abril 21, bilang isa sa mga tugon sa biglang pagtaas ng bilang ng mga kaso ng COVID-19 at ang pagdami na rin ng impeksiyong dulot ng mga bagong variant. Sa ilalim ng kautusan, maaari namang pumasok ang mga seaman, kabilang ang mga dayuhan na may seafarer\\'s visa. \"Ang panibagong revision doon sa unang inilabas na guidelines ay ang pagpapahintulot ngayon sa lahat ng mga maglalayag, Pilipino man o foreigner basta may hawak na seafarer\\'s visa. Pwede na silang magpatuloy ng kanilang biyahe papuntang Pilipinas basta ito ay kasama sa kanilang gagawin na crew change na tinatawag sa green lane na protocol na ating isinaad at ginawa noong nakaraang taon para patuloy ang pagpapalitan ng mga tao, o crew ng isang barko,” paliwanag niya. Naisama rin aniya sa revision ang exemption sa lahat ng mga asawa o anak ng mga Pilipino na kasama nilang bumibiyahe pabalik ng bansa basta mayroon silang valid visa. “Wala pa ring pagbabago sa foreign nationals. Nakalagay pa rin sa guidelines na maliban lang sa medical emergencies na endorso ng DFA at ng OWWA, wala pang foreign national na maaring pumunta dito maliban lang kung sila ay asawa o anak ng isang Pilipinong pabalik na po dito at may hawak na valid na visa,” saad niya. Kasama din sa memo ang pagkakaroon ng 1,500 kada araw na limit para sa international inbound passengers sa Ninoy Aquino International Airport. Nitong Huwebes, nakapagtala ang Pilipinas ng kabuuang 640,984 na kaso ng COVID-19, kabilang na ang higit 66,000 active cases. “Ang pinakamainam na panangga natin sa pagkakaroon ng COVID-19 ay ang striktong pagsunod pa rin sa health protocols, maging nandito tayo sa Pilipinas, sa ibang bansa, o habang nagbibiyahe,” sabi ni Padilla. - TeleRadyo 19 Marso 2021'},\n",
       " {'title': 'Doctors suspected Jan Catherine Sy was stricken by leptospirosis',\n",
       "  'author': 'ABS-CBN News',\n",
       "  'date': 'Mar 19 2021 12:56 PM',\n",
       "  'content': 'MANILA - Leptospirosis from bacterial infection was considered by doctors as the \"highest possibility\" for the illness of Henry Sy\\'s 29-year-old granddaughter Jan Catherine prior to her sudden demise. The Sy family confirmed the death of Jan Catherine, daughter of Henry \"Big Boy\" Sy. Jr, on Thursday. Sy Jr. is chairman of SM Prime Holdings. COVID-19, hepatitis, dengue and malaria had been ruled out by doctors, the family said in a statement shared with relatives and friends when the young woman was still in critical condition in a hospital. \"They are still not sure what this is, but the highest possibility is that it is bacterial infection that resulted in leptospirosis. This is possible if even a small cut that can go unnoticed is made,\" they said. Sy\\'s condition showed \"no signs of a disease\" or virus brewing. She was \"young and strong,\" the family had said. Before she passed away, Sy was put on 3 strong antibiotics to try to kill the bacteria, and she was also given steroids, the family shared. She was an equestrian who started competing locally at the age 13, according to an Inquirer interview where she also said that her horses were her \"top priority.\" She was scheduled to get married next month. Sy trained in France before joining the SM Development Corp in 2018. She used to be a project director for SM Development Corp. The Sy patriarch died in January 2019 at age 94. -- report from Mimi Ong, ABS-CBN News'}]"
      ]
     },
     "execution_count": 21,
     "metadata": {},
     "output_type": "execute_result"
    }
   ],
   "source": [
    "#check contents\n",
    "news_list_json"
   ]
  },
  {
   "cell_type": "code",
   "execution_count": 23,
   "metadata": {},
   "outputs": [],
   "source": [
    "#export\n",
    "import json\n",
    "\n",
    "with open('news_data.json', 'w', encoding='utf-8') as outfile:\n",
    "    json.dump(news_list_json, outfile) "
   ]
  },
  {
   "cell_type": "code",
   "execution_count": null,
   "metadata": {},
   "outputs": [],
   "source": []
  }
 ],
 "metadata": {
  "kernelspec": {
   "display_name": "Python 3",
   "language": "python",
   "name": "python3"
  },
  "language_info": {
   "codemirror_mode": {
    "name": "ipython",
    "version": 3
   },
   "file_extension": ".py",
   "mimetype": "text/x-python",
   "name": "python",
   "nbconvert_exporter": "python",
   "pygments_lexer": "ipython3",
   "version": "3.7.3"
  }
 },
 "nbformat": 4,
 "nbformat_minor": 2
}
